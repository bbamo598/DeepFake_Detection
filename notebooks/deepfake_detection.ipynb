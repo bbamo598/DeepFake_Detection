{
 "cells": [
  {
   "cell_type": "markdown",
   "id": "c0ede5e9-2eb8-4c9e-a718-5fd02005ea4e",
   "metadata": {},
   "source": [
    "### Expérimentation des architectures de détection (CNN, Vision Transformers)."
   ]
  },
  {
   "cell_type": "code",
   "execution_count": null,
   "id": "b922a03a-601a-47c3-a9fe-c7ef6d619eca",
   "metadata": {},
   "outputs": [],
   "source": []
  }
 ],
 "metadata": {
  "kernelspec": {
   "display_name": "Python 3 (ipykernel)",
   "language": "python",
   "name": "python3"
  },
  "language_info": {
   "codemirror_mode": {
    "name": "ipython",
    "version": 3
   },
   "file_extension": ".py",
   "mimetype": "text/x-python",
   "name": "python",
   "nbconvert_exporter": "python",
   "pygments_lexer": "ipython3",
   "version": "3.13.7"
  }
 },
 "nbformat": 4,
 "nbformat_minor": 5
}
